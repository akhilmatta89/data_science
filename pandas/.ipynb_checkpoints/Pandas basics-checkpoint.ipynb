{
 "cells": [
  {
   "cell_type": "markdown",
   "id": "c997e85f",
   "metadata": {},
   "source": [
    "# Introduction To Pandas"
   ]
  },
  {
   "cell_type": "code",
   "execution_count": 2,
   "id": "2a8cefca",
   "metadata": {},
   "outputs": [],
   "source": [
    "# Pandas is an open source library that's built on top of numpy\n",
    "# it allows for fast analysis and data cleaning and preparation.\n",
    "# it excels in performance and productivity\n",
    "# it also has builtin visualisation features\n",
    "# it can work with data of wide variety of sources"
   ]
  },
  {
   "cell_type": "code",
   "execution_count": 4,
   "id": "e53d377b",
   "metadata": {},
   "outputs": [],
   "source": [
    "#series\n",
    "#dataframes\n",
    "#missing data\n",
    "#groupby\n",
    "#merging joining and concatinating\n",
    "#opeartions\n",
    "#datainput and output"
   ]
  },
  {
   "cell_type": "markdown",
   "id": "db8d71b1",
   "metadata": {},
   "source": [
    "# Series"
   ]
  },
  {
   "cell_type": "code",
   "execution_count": 5,
   "id": "6154550d",
   "metadata": {},
   "outputs": [],
   "source": [
    "import numpy as np\n",
    "import pandas as pd"
   ]
  },
  {
   "cell_type": "code",
   "execution_count": 8,
   "id": "04ac7f67",
   "metadata": {},
   "outputs": [],
   "source": [
    "labels = ['a', 'b', 'c']\n",
    "my_data = [10, 20, 30]\n",
    "arr = np.array(my_data)\n",
    "d = {'a':10, 'b':20, 'c':30}"
   ]
  },
  {
   "cell_type": "code",
   "execution_count": 9,
   "id": "c86cc90e",
   "metadata": {},
   "outputs": [
    {
     "data": {
      "text/plain": [
       "0    10\n",
       "1    20\n",
       "2    30\n",
       "dtype: int64"
      ]
     },
     "execution_count": 9,
     "metadata": {},
     "output_type": "execute_result"
    }
   ],
   "source": [
    "pd .Series(my_data\n",
    "          )"
   ]
  },
  {
   "cell_type": "code",
   "execution_count": 10,
   "id": "9ba493e5",
   "metadata": {},
   "outputs": [
    {
     "data": {
      "text/plain": [
       "a    10\n",
       "b    20\n",
       "c    30\n",
       "dtype: int64"
      ]
     },
     "execution_count": 10,
     "metadata": {},
     "output_type": "execute_result"
    }
   ],
   "source": [
    "pd.Series(data=my_data,index=labels)"
   ]
  },
  {
   "cell_type": "code",
   "execution_count": 11,
   "id": "f91402e3",
   "metadata": {},
   "outputs": [
    {
     "data": {
      "text/plain": [
       "a    10\n",
       "b    20\n",
       "c    30\n",
       "dtype: int64"
      ]
     },
     "execution_count": 11,
     "metadata": {},
     "output_type": "execute_result"
    }
   ],
   "source": [
    "pd.Series(my_data,labels)"
   ]
  },
  {
   "cell_type": "code",
   "execution_count": 12,
   "id": "a6ea52c4",
   "metadata": {},
   "outputs": [],
   "source": [
    "c"
   ]
  },
  {
   "cell_type": "code",
   "execution_count": 13,
   "id": "bdc2cfa7",
   "metadata": {},
   "outputs": [
    {
     "data": {
      "text/plain": [
       "a    10\n",
       "b    20\n",
       "c    30\n",
       "dtype: int32"
      ]
     },
     "execution_count": 13,
     "metadata": {},
     "output_type": "execute_result"
    }
   ],
   "source": [
    "pd.Series(arr,labels)"
   ]
  },
  {
   "cell_type": "code",
   "execution_count": 15,
   "id": "7b3d6e71",
   "metadata": {},
   "outputs": [],
   "source": [
    "#Dict also work same as list for pandas series"
   ]
  },
  {
   "cell_type": "code",
   "execution_count": 16,
   "id": "ea3fdb60",
   "metadata": {},
   "outputs": [
    {
     "data": {
      "text/plain": [
       "a    10\n",
       "b    20\n",
       "c    30\n",
       "dtype: int64"
      ]
     },
     "execution_count": 16,
     "metadata": {},
     "output_type": "execute_result"
    }
   ],
   "source": [
    "pd.Series(d)"
   ]
  },
  {
   "cell_type": "code",
   "execution_count": 17,
   "id": "741128a3",
   "metadata": {},
   "outputs": [],
   "source": [
    "# series can store some differnt data types"
   ]
  },
  {
   "cell_type": "code",
   "execution_count": 18,
   "id": "4594f7aa",
   "metadata": {},
   "outputs": [
    {
     "data": {
      "text/plain": [
       "0    a\n",
       "1    b\n",
       "2    c\n",
       "dtype: object"
      ]
     },
     "execution_count": 18,
     "metadata": {},
     "output_type": "execute_result"
    }
   ],
   "source": [
    "pd.Series(labels)"
   ]
  },
  {
   "cell_type": "code",
   "execution_count": 20,
   "id": "eb117273",
   "metadata": {},
   "outputs": [],
   "source": [
    "ser1 = pd.Series([1,2,3],['USA','AUSTRALIA','ITALY'])"
   ]
  },
  {
   "cell_type": "code",
   "execution_count": 21,
   "id": "e075659a",
   "metadata": {},
   "outputs": [
    {
     "data": {
      "text/plain": [
       "USA          1\n",
       "AUSTRALIA    2\n",
       "ITALY        3\n",
       "dtype: int64"
      ]
     },
     "execution_count": 21,
     "metadata": {},
     "output_type": "execute_result"
    }
   ],
   "source": [
    "ser1"
   ]
  },
  {
   "cell_type": "code",
   "execution_count": 22,
   "id": "e789e441",
   "metadata": {},
   "outputs": [],
   "source": [
    "ser2 = pd.Series([1,2,4],['USA','AUSTRALIA','IRELAND'])"
   ]
  },
  {
   "cell_type": "code",
   "execution_count": 23,
   "id": "e232012d",
   "metadata": {},
   "outputs": [
    {
     "data": {
      "text/plain": [
       "USA          1\n",
       "AUSTRALIA    2\n",
       "IRELAND      4\n",
       "dtype: int64"
      ]
     },
     "execution_count": 23,
     "metadata": {},
     "output_type": "execute_result"
    }
   ],
   "source": [
    "ser2"
   ]
  },
  {
   "cell_type": "code",
   "execution_count": 24,
   "id": "816f3e80",
   "metadata": {},
   "outputs": [
    {
     "data": {
      "text/plain": [
       "AUSTRALIA    4.0\n",
       "IRELAND      NaN\n",
       "ITALY        NaN\n",
       "USA          2.0\n",
       "dtype: float64"
      ]
     },
     "execution_count": 24,
     "metadata": {},
     "output_type": "execute_result"
    }
   ],
   "source": [
    "ser1+ser2"
   ]
  },
  {
   "cell_type": "code",
   "execution_count": null,
   "id": "23e4273c",
   "metadata": {},
   "outputs": [],
   "source": []
  }
 ],
 "metadata": {
  "kernelspec": {
   "display_name": "Python 3",
   "language": "python",
   "name": "python3"
  },
  "language_info": {
   "codemirror_mode": {
    "name": "ipython",
    "version": 3
   },
   "file_extension": ".py",
   "mimetype": "text/x-python",
   "name": "python",
   "nbconvert_exporter": "python",
   "pygments_lexer": "ipython3",
   "version": "3.8.8"
  }
 },
 "nbformat": 4,
 "nbformat_minor": 5
}
